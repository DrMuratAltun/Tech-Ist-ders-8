{
 "cells": [
  {
   "cell_type": "markdown",
   "id": "791d92c1",
   "metadata": {},
   "source": [
    "# Metni seslendirme"
   ]
  },
  {
   "cell_type": "code",
   "execution_count": 1,
   "id": "febde851",
   "metadata": {
    "collapsed": true
   },
   "outputs": [
    {
     "name": "stdout",
     "output_type": "stream",
     "text": [
      "Defaulting to user installation because normal site-packages is not writeableNote: you may need to restart the kernel to use updated packages.\n",
      "\n",
      "Requirement already satisfied: gtts in c:\\users\\emura\\appdata\\roaming\\python\\python311\\site-packages (2.5.1)\n",
      "Requirement already satisfied: requests<3,>=2.27 in c:\\users\\emura\\appdata\\roaming\\python\\python311\\site-packages (from gtts) (2.31.0)\n",
      "Requirement already satisfied: click<8.2,>=7.1 in c:\\programdata\\anaconda3\\lib\\site-packages (from gtts) (8.0.4)\n",
      "Requirement already satisfied: colorama in c:\\programdata\\anaconda3\\lib\\site-packages (from click<8.2,>=7.1->gtts) (0.4.6)\n",
      "Requirement already satisfied: charset-normalizer<4,>=2 in c:\\programdata\\anaconda3\\lib\\site-packages (from requests<3,>=2.27->gtts) (2.0.4)\n",
      "Requirement already satisfied: idna<4,>=2.5 in c:\\users\\emura\\appdata\\roaming\\python\\python311\\site-packages (from requests<3,>=2.27->gtts) (2.10)\n",
      "Requirement already satisfied: urllib3<3,>=1.21.1 in c:\\programdata\\anaconda3\\lib\\site-packages (from requests<3,>=2.27->gtts) (1.26.16)\n",
      "Requirement already satisfied: certifi>=2017.4.17 in c:\\programdata\\anaconda3\\lib\\site-packages (from requests<3,>=2.27->gtts) (2023.7.22)\n"
     ]
    }
   ],
   "source": [
    "pip install gtts"
   ]
  },
  {
   "cell_type": "code",
   "execution_count": 2,
   "id": "916993f6",
   "metadata": {},
   "outputs": [],
   "source": [
    "from gtts import gTTS"
   ]
  },
  {
   "cell_type": "code",
   "execution_count": 9,
   "id": "ddad892a",
   "metadata": {},
   "outputs": [],
   "source": [
    "text=\"Merhaba ben yapay zekâ asistanınızım. size nasıl yardımcı olabilirim.\""
   ]
  },
  {
   "cell_type": "code",
   "execution_count": 5,
   "id": "0f08dae0",
   "metadata": {},
   "outputs": [],
   "source": [
    "kayit=gTTS(text=text,lang=\"tr\",slow=False)\n",
    "kayit.save(\"ses.mp3\")"
   ]
  },
  {
   "cell_type": "code",
   "execution_count": 7,
   "id": "5f6e51bf",
   "metadata": {},
   "outputs": [],
   "source": [
    "kayit=gTTS(text=text,lang=\"hi\",slow=False)\n",
    "kayit.save(\"ses_hi.mp3\")"
   ]
  },
  {
   "cell_type": "code",
   "execution_count": 10,
   "id": "26234c8a",
   "metadata": {},
   "outputs": [],
   "source": [
    "kayit=gTTS(text=text,lang=\"ru\",slow=False)\n",
    "kayit.save(\"ses_ru.mp3\")"
   ]
  },
  {
   "cell_type": "code",
   "execution_count": null,
   "id": "69de7617",
   "metadata": {},
   "outputs": [],
   "source": []
  }
 ],
 "metadata": {
  "kernelspec": {
   "display_name": "Python 3 (ipykernel)",
   "language": "python",
   "name": "python3"
  },
  "language_info": {
   "codemirror_mode": {
    "name": "ipython",
    "version": 3
   },
   "file_extension": ".py",
   "mimetype": "text/x-python",
   "name": "python",
   "nbconvert_exporter": "python",
   "pygments_lexer": "ipython3",
   "version": "3.11.5"
  }
 },
 "nbformat": 4,
 "nbformat_minor": 5
}
